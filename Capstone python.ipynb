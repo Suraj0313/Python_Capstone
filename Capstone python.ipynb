{
 "cells": [
  {
   "cell_type": "code",
   "execution_count": 1,
   "id": "7ccb6b87-9748-4f4f-9445-c19a210469cc",
   "metadata": {},
   "outputs": [],
   "source": [
    "import numpy as np\n",
    "import pandas as pd"
   ]
  },
  {
   "cell_type": "markdown",
   "id": "7353e38c-2261-4e85-8790-2e2e49e66add",
   "metadata": {},
   "source": [
    "## **Task 1**"
   ]
  },
  {
   "cell_type": "code",
   "execution_count": 2,
   "id": "0dacbdd0-a2ad-4325-862a-c997597e7889",
   "metadata": {},
   "outputs": [
    {
     "name": "stdout",
     "output_type": "stream",
     "text": [
      "      ID     Project       Cost    Status\n",
      "0   A001   Project 1  1002000.0  Finished\n",
      "1   A002   Project 2  2000000.0   Ongoing\n",
      "2   A003   Project 3  4500000.0  Finished\n",
      "3   A004   Project 4  5500000.0   Ongoing\n",
      "4   A005   Project 5        NaN  Finished\n",
      "5   A002   Project 6   680000.0    Failed\n",
      "6   A005   Project 7   400000.0  Finished\n",
      "7   A003   Project 8   350000.0    Failed\n",
      "8   A001   Project 9        NaN   Ongoing\n",
      "9   A003  Project 10   300000.0  Finished\n",
      "10  A001  Project 11  2000000.0    Failed\n",
      "11  A004  Project 12  1000000.0   Ongoing\n",
      "12  A004  Project 13  3000000.0  Finished\n",
      "13  A005  Project 14   200000.0  Finished\n"
     ]
    }
   ],
   "source": [
    "data = {'ID':['A001','A002','A003','A004','A005','A002','A005','A003','A001','A003','A001','A004','A004','A005'],\n",
    "        'Project':['Project 1','Project 2','Project 3','Project 4','Project 5','Project 6','Project 7','Project 8','Project 9',\n",
    "                   'Project 10','Project 11','Project 12','Project 13','Project 14'],\n",
    "        'Cost':[1002000,2000000,4500000,5500000,np.NAN,680000,400000,350000,np.NAN,300000,2000000,1000000,3000000,200000],\n",
    "        'Status':['Finished','Ongoing','Finished','Ongoing','Finished','Failed','Finished','Failed','Ongoing','Finished','Failed','Ongoing',\n",
    "                  'Finished','Finished']}\n",
    "project_dataframe = pd.DataFrame(data)\n",
    "print(project_dataframe)"
   ]
  },
  {
   "cell_type": "code",
   "execution_count": 3,
   "id": "b5b3ea9f-e14a-45e0-91d7-f0d194213710",
   "metadata": {},
   "outputs": [
    {
     "name": "stdout",
     "output_type": "stream",
     "text": [
      "     ID             Name Gender     City  Age\n",
      "0  A001       John Alter      M    Paris   25\n",
      "1  A002  Alice Luxumberg      F   London   27\n",
      "2  A003    Tom Subestine      M   Berlin   29\n",
      "3  A004       Nina Adgra      F  Newyork   31\n",
      "4  A005        Amy Johny      F   Madrid   30\n"
     ]
    }
   ],
   "source": [
    "ed = {'ID':['A001','A002','A003','A004','A005'],\n",
    "      'Name':['John Alter','Alice Luxumberg','Tom Subestine','Nina Adgra','Amy Johny'],\n",
    "      'Gender':['M','F','M','F','F'],\n",
    "      'City':['Paris','London','Berlin','Newyork','Madrid'],\n",
    "      'Age':[25,27,29,31,30]}\n",
    "employee_dataframe = pd.DataFrame(ed)\n",
    "print(employee_dataframe)"
   ]
  },
  {
   "cell_type": "code",
   "execution_count": 4,
   "id": "14798b57-2479-4df1-963a-c80d88d005de",
   "metadata": {},
   "outputs": [
    {
     "name": "stdout",
     "output_type": "stream",
     "text": [
      "     ID  Designation Level\n",
      "0  A001                  2\n",
      "1  A002                  2\n",
      "2  A003                  3\n",
      "3  A004                  2\n",
      "4  A005                  3\n"
     ]
    }
   ],
   "source": [
    "sd = {'ID':['A001','A002','A003','A004','A005'],\n",
    "      'Designation Level':[2,2,3,2,3]}\n",
    "seniority_dataframe = pd.DataFrame(sd)\n",
    "print(seniority_dataframe)"
   ]
  },
  {
   "cell_type": "code",
   "execution_count": 5,
   "id": "818fd317-2e1a-49e5-bb6a-f6b547ddd5be",
   "metadata": {},
   "outputs": [],
   "source": [
    "project_dataframe.to_csv('H:\\Project Data Frame.csv',index = False)"
   ]
  },
  {
   "cell_type": "code",
   "execution_count": 6,
   "id": "c0de179f-5124-46e3-b05c-633b470f8f7c",
   "metadata": {},
   "outputs": [],
   "source": [
    "employee_dataframe.to_csv('H:\\Employee Data Frame.csv',index = False)"
   ]
  },
  {
   "cell_type": "code",
   "execution_count": 7,
   "id": "5bb68e87-f3c7-4d36-a63f-6ef2f6cb8cb0",
   "metadata": {},
   "outputs": [],
   "source": [
    "seniority_dataframe.to_csv('H:\\Seniority Level Data Frame.csv',index = False)"
   ]
  },
  {
   "cell_type": "code",
   "execution_count": 8,
   "id": "e56d9f33-8ac1-458d-890c-588fe7db7e97",
   "metadata": {},
   "outputs": [
    {
     "name": "stdout",
     "output_type": "stream",
     "text": [
      "      ID     Project       Cost    Status\n",
      "0   A001   Project 1  1002000.0  Finished\n",
      "1   A002   Project 2  2000000.0   Ongoing\n",
      "2   A003   Project 3  4500000.0  Finished\n",
      "3   A004   Project 4  5500000.0   Ongoing\n",
      "4   A005   Project 5        NaN  Finished\n",
      "5   A002   Project 6   680000.0    Failed\n",
      "6   A005   Project 7   400000.0  Finished\n",
      "7   A003   Project 8   350000.0    Failed\n",
      "8   A001   Project 9        NaN   Ongoing\n",
      "9   A003  Project 10   300000.0  Finished\n",
      "10  A001  Project 11  2000000.0    Failed\n",
      "11  A004  Project 12  1000000.0   Ongoing\n",
      "12  A004  Project 13  3000000.0  Finished\n",
      "13  A005  Project 14   200000.0  Finished\n"
     ]
    }
   ],
   "source": [
    "project_dataframe = pd.read_csv('H:\\Project Data Frame.csv')\n",
    "print(project_dataframe)"
   ]
  },
  {
   "cell_type": "code",
   "execution_count": 9,
   "id": "ad7aca82-c08d-49cb-bd14-00da944f4031",
   "metadata": {},
   "outputs": [
    {
     "name": "stdout",
     "output_type": "stream",
     "text": [
      "     ID             Name Gender     City  Age\n",
      "0  A001       John Alter      M    Paris   25\n",
      "1  A002  Alice Luxumberg      F   London   27\n",
      "2  A003    Tom Subestine      M   Berlin   29\n",
      "3  A004       Nina Adgra      F  Newyork   31\n",
      "4  A005        Amy Johny      F   Madrid   30\n"
     ]
    }
   ],
   "source": [
    "employee_dataframe = pd.read_csv('H:\\Employee Data Frame.csv')\n",
    "print(employee_dataframe)"
   ]
  },
  {
   "cell_type": "code",
   "execution_count": 10,
   "id": "4a530058-ebc1-4bc9-a43e-9767cf2abf95",
   "metadata": {},
   "outputs": [
    {
     "name": "stdout",
     "output_type": "stream",
     "text": [
      "     ID  Designation Level\n",
      "0  A001                  2\n",
      "1  A002                  2\n",
      "2  A003                  3\n",
      "3  A004                  2\n",
      "4  A005                  3\n"
     ]
    }
   ],
   "source": [
    "seniority_dataframe = pd.read_csv('H:\\Seniority Level Data Frame.csv')\n",
    "print(seniority_dataframe)"
   ]
  },
  {
   "cell_type": "markdown",
   "id": "6abdbf6a-ef07-45dd-ace5-3747648260a6",
   "metadata": {},
   "source": [
    "## **Task 2**"
   ]
  },
  {
   "cell_type": "code",
   "execution_count": 11,
   "id": "9c6362d0-2bc1-4cde-8235-411e0fbab7be",
   "metadata": {},
   "outputs": [],
   "source": [
    "# Filling missing values using a running average with a for loop.\n",
    "costs = project_dataframe['Cost'].copy()\n",
    "for i in range(len(costs)):\n",
    "    if np.isnan(costs[i]):\n",
    "        if i == 0:\n",
    "            costs[i] = costs.mean()   # If the First value is Nan, replace it with the mean of the cost.\n",
    "        else:\n",
    "            running_average = costs[:i].mean()   # Calculating running average exculding current Nan value.\n",
    "            costs[i] = running_average\n",
    "\n",
    "project_dataframe['Cost'] = costs\n",
    "\n",
    "# Saving the updated dataframe back to the CSV file.\n",
    "project_dataframe.to_csv('H:\\Project Data Frame.csv',index = False)"
   ]
  },
  {
   "cell_type": "code",
   "execution_count": 12,
   "id": "af3706f5-452f-4a1d-ab62-77249d8bfcba",
   "metadata": {},
   "outputs": [
    {
     "name": "stdout",
     "output_type": "stream",
     "text": [
      "      ID     Project       Cost    Status\n",
      "0   A001   Project 1  1002000.0  Finished\n",
      "1   A002   Project 2  2000000.0   Ongoing\n",
      "2   A003   Project 3  4500000.0  Finished\n",
      "3   A004   Project 4  5500000.0   Ongoing\n",
      "4   A005   Project 5  3250500.0  Finished\n",
      "5   A002   Project 6   680000.0    Failed\n",
      "6   A005   Project 7   400000.0  Finished\n",
      "7   A003   Project 8   350000.0    Failed\n",
      "8   A001   Project 9  2210312.5   Ongoing\n",
      "9   A003  Project 10   300000.0  Finished\n",
      "10  A001  Project 11  2000000.0    Failed\n",
      "11  A004  Project 12  1000000.0   Ongoing\n",
      "12  A004  Project 13  3000000.0  Finished\n",
      "13  A005  Project 14   200000.0  Finished\n"
     ]
    }
   ],
   "source": [
    "project_dataframe = pd.read_csv('H:\\Project Data Frame.csv')\n",
    "print(project_dataframe)"
   ]
  },
  {
   "cell_type": "markdown",
   "id": "b1a01817-0e82-487d-a509-6e2ae252a6cb",
   "metadata": {},
   "source": [
    "## **Task 3**"
   ]
  },
  {
   "cell_type": "code",
   "execution_count": 13,
   "id": "4da6797a-de09-4f2c-8784-d76a89e28b15",
   "metadata": {},
   "outputs": [
    {
     "name": "stdout",
     "output_type": "stream",
     "text": [
      "     ID Gender     City  Age First Name  Last Name\n",
      "0  A001      M    Paris   25       John      Alter\n",
      "1  A002      F   London   27      Alice  Luxumberg\n",
      "2  A003      M   Berlin   29        Tom  Subestine\n",
      "3  A004      F  Newyork   31       Nina      Adgra\n",
      "4  A005      F   Madrid   30        Amy      Johny\n"
     ]
    }
   ],
   "source": [
    "# Splitting the 'Name' column into 'First Name' and 'Last Name'.\n",
    "employee_dataframe[['First Name', 'Last Name']] = employee_dataframe['Name'].str.split(' ', expand=True)\n",
    "employee_dataframe.drop('Name', axis=1, inplace=True)\n",
    "print(employee_dataframe)"
   ]
  },
  {
   "cell_type": "markdown",
   "id": "ffeb83e3-4b18-40df-bfcf-e6b46b78d39c",
   "metadata": {},
   "source": [
    "## **Task 4**"
   ]
  },
  {
   "cell_type": "code",
   "execution_count": 14,
   "id": "a747c3a9-0b53-4a9e-998d-cf9226661a31",
   "metadata": {},
   "outputs": [
    {
     "name": "stdout",
     "output_type": "stream",
     "text": [
      "Project DataFrame Columns:  Index(['ID', 'Project', 'Cost', 'Status'], dtype='object')\n",
      "Employee DataFrame Columns:  Index(['ID', 'Gender', 'City', 'Age', 'First Name', 'Last Name'], dtype='object')\n",
      "Seniority DataFrame Columns:  Index(['ID', 'Designation Level'], dtype='object')\n"
     ]
    }
   ],
   "source": [
    "print(\"Project DataFrame Columns: \", project_dataframe.columns)  # This is for my reference.\n",
    "print(\"Employee DataFrame Columns: \", employee_dataframe.columns)\n",
    "print(\"Seniority DataFrame Columns: \", seniority_dataframe.columns)"
   ]
  },
  {
   "cell_type": "code",
   "execution_count": 15,
   "id": "d1b95477-96c2-438f-bba9-15e24c62f7aa",
   "metadata": {},
   "outputs": [],
   "source": [
    "# Merging project_dataframe, employee_dataframe and seniority_dataframe with common column 'ID'.\n",
    "Final = project_dataframe.merge(employee_dataframe, on='ID').merge(seniority_dataframe, on='ID')\n",
    "\n",
    "# Saving the updated dataframe back to the CSV file.\n",
    "Final.to_csv('H:\\Final.csv',index = False)"
   ]
  },
  {
   "cell_type": "code",
   "execution_count": 16,
   "id": "fa7f5f0e-5e3b-4715-ba2d-d0430d0d3f04",
   "metadata": {},
   "outputs": [
    {
     "name": "stdout",
     "output_type": "stream",
     "text": [
      "      ID     Project       Cost    Status Gender     City  Age First Name  \\\n",
      "0   A001   Project 1  1002000.0  Finished      M    Paris   25       John   \n",
      "1   A001   Project 9  2210312.5   Ongoing      M    Paris   25       John   \n",
      "2   A001  Project 11  2000000.0    Failed      M    Paris   25       John   \n",
      "3   A002   Project 2  2000000.0   Ongoing      F   London   27      Alice   \n",
      "4   A002   Project 6   680000.0    Failed      F   London   27      Alice   \n",
      "5   A003   Project 3  4500000.0  Finished      M   Berlin   29        Tom   \n",
      "6   A003   Project 8   350000.0    Failed      M   Berlin   29        Tom   \n",
      "7   A003  Project 10   300000.0  Finished      M   Berlin   29        Tom   \n",
      "8   A004   Project 4  5500000.0   Ongoing      F  Newyork   31       Nina   \n",
      "9   A004  Project 12  1000000.0   Ongoing      F  Newyork   31       Nina   \n",
      "10  A004  Project 13  3000000.0  Finished      F  Newyork   31       Nina   \n",
      "11  A005   Project 5  3250500.0  Finished      F   Madrid   30        Amy   \n",
      "12  A005   Project 7   400000.0  Finished      F   Madrid   30        Amy   \n",
      "13  A005  Project 14   200000.0  Finished      F   Madrid   30        Amy   \n",
      "\n",
      "    Last Name  Designation Level  \n",
      "0       Alter                  2  \n",
      "1       Alter                  2  \n",
      "2       Alter                  2  \n",
      "3   Luxumberg                  2  \n",
      "4   Luxumberg                  2  \n",
      "5   Subestine                  3  \n",
      "6   Subestine                  3  \n",
      "7   Subestine                  3  \n",
      "8       Adgra                  2  \n",
      "9       Adgra                  2  \n",
      "10      Adgra                  2  \n",
      "11      Johny                  3  \n",
      "12      Johny                  3  \n",
      "13      Johny                  3  \n"
     ]
    }
   ],
   "source": [
    "Final = pd.read_csv('H:\\Final.csv')\n",
    "print(Final)"
   ]
  },
  {
   "cell_type": "markdown",
   "id": "89db0890-4eae-475b-a0c8-c2fad147ecdf",
   "metadata": {},
   "source": [
    "## **Task 5**"
   ]
  },
  {
   "cell_type": "code",
   "execution_count": 17,
   "id": "a7674f80-7100-4243-85d0-1517ec1d51bb",
   "metadata": {},
   "outputs": [
    {
     "name": "stdout",
     "output_type": "stream",
     "text": [
      "      ID     Project       Cost    Status Gender     City  Age First Name  \\\n",
      "0   A001   Project 1  1002000.0  Finished      M    Paris   25       John   \n",
      "1   A001   Project 9  2210312.5   Ongoing      M    Paris   25       John   \n",
      "2   A001  Project 11  2000000.0    Failed      M    Paris   25       John   \n",
      "3   A002   Project 2  2000000.0   Ongoing      F   London   27      Alice   \n",
      "4   A002   Project 6   680000.0    Failed      F   London   27      Alice   \n",
      "5   A003   Project 3  4500000.0  Finished      M   Berlin   29        Tom   \n",
      "6   A003   Project 8   350000.0    Failed      M   Berlin   29        Tom   \n",
      "7   A003  Project 10   300000.0  Finished      M   Berlin   29        Tom   \n",
      "8   A004   Project 4  5500000.0   Ongoing      F  Newyork   31       Nina   \n",
      "9   A004  Project 12  1000000.0   Ongoing      F  Newyork   31       Nina   \n",
      "10  A004  Project 13  3000000.0  Finished      F  Newyork   31       Nina   \n",
      "11  A005   Project 5  3250500.0  Finished      F   Madrid   30        Amy   \n",
      "12  A005   Project 7   400000.0  Finished      F   Madrid   30        Amy   \n",
      "13  A005  Project 14   200000.0  Finished      F   Madrid   30        Amy   \n",
      "\n",
      "    Last Name  Designation Level     bonus  \n",
      "0       Alter                  2   50100.0  \n",
      "1       Alter                  2       0.0  \n",
      "2       Alter                  2       0.0  \n",
      "3   Luxumberg                  2       0.0  \n",
      "4   Luxumberg                  2       0.0  \n",
      "5   Subestine                  3  225000.0  \n",
      "6   Subestine                  3       0.0  \n",
      "7   Subestine                  3   15000.0  \n",
      "8       Adgra                  2       0.0  \n",
      "9       Adgra                  2       0.0  \n",
      "10      Adgra                  2  150000.0  \n",
      "11      Johny                  3  162525.0  \n",
      "12      Johny                  3   20000.0  \n",
      "13      Johny                  3   10000.0  \n"
     ]
    }
   ],
   "source": [
    "# Using lambda function creating and assigning 5% bonus to who have finished the project.\n",
    "Final['bonus'] = Final.apply(lambda row: 0.05* row['Cost'] if row['Status'] == 'Finished' else 0, axis = 1)\n",
    "print(Final)"
   ]
  },
  {
   "cell_type": "markdown",
   "id": "3fc3d76f-2352-41c3-b59d-843e9d50fd55",
   "metadata": {},
   "source": [
    "## **Task 6**"
   ]
  },
  {
   "cell_type": "code",
   "execution_count": 18,
   "id": "c8d97967-df90-486f-ad75-2f83d646f649",
   "metadata": {},
   "outputs": [
    {
     "name": "stdout",
     "output_type": "stream",
     "text": [
      "      ID     Project       Cost    Status Gender     City  Age First Name  \\\n",
      "0   A001   Project 1  1002000.0  Finished      M    Paris   25       John   \n",
      "1   A001   Project 9  2210312.5   Ongoing      M    Paris   25       John   \n",
      "2   A001  Project 11  2000000.0    Failed      M    Paris   25       John   \n",
      "3   A002   Project 2  2000000.0   Ongoing      F   London   27      Alice   \n",
      "4   A002   Project 6   680000.0    Failed      F   London   27      Alice   \n",
      "5   A003   Project 3  4500000.0  Finished      M   Berlin   29        Tom   \n",
      "6   A003   Project 8   350000.0    Failed      M   Berlin   29        Tom   \n",
      "7   A003  Project 10   300000.0  Finished      M   Berlin   29        Tom   \n",
      "8   A004   Project 4  5500000.0   Ongoing      F  Newyork   31       Nina   \n",
      "9   A004  Project 12  1000000.0   Ongoing      F  Newyork   31       Nina   \n",
      "10  A004  Project 13  3000000.0  Finished      F  Newyork   31       Nina   \n",
      "11  A005   Project 5  3250500.0  Finished      F   Madrid   30        Amy   \n",
      "12  A005   Project 7   400000.0  Finished      F   Madrid   30        Amy   \n",
      "13  A005  Project 14   200000.0  Finished      F   Madrid   30        Amy   \n",
      "\n",
      "    Last Name  Designation Level     bonus  \n",
      "0       Alter                  2   50100.0  \n",
      "1       Alter                  2       0.0  \n",
      "2       Alter                  1       0.0  \n",
      "3   Luxumberg                  2       0.0  \n",
      "4   Luxumberg                  1       0.0  \n",
      "5   Subestine                  3  225000.0  \n",
      "6   Subestine                  2       0.0  \n",
      "7   Subestine                  3   15000.0  \n",
      "8       Adgra                  2       0.0  \n",
      "9       Adgra                  2       0.0  \n",
      "10      Adgra                  2  150000.0  \n",
      "11      Johny                  3  162525.0  \n",
      "12      Johny                  3   20000.0  \n",
      "13      Johny                  3   10000.0  \n"
     ]
    }
   ],
   "source": [
    "# Demoting designation level by 1 for employees whose projects have status 'Failed'\n",
    "Final.loc[Final['Status'] == 'Failed', 'Designation Level'] -= 1\n",
    "\n",
    "# Deleting employees whose designation level is above 4\n",
    "Final = Final[Final['Designation Level'] <= 4]\n",
    "print(Final)"
   ]
  },
  {
   "cell_type": "markdown",
   "id": "2aea1592-7b56-4864-ba71-0b145e029b59",
   "metadata": {},
   "source": [
    "## **Task 7**"
   ]
  },
  {
   "cell_type": "code",
   "execution_count": 19,
   "id": "dc002141-7eaa-4631-862a-24c4fd3a6a44",
   "metadata": {},
   "outputs": [],
   "source": [
    "# Adding 'Mr' and 'Mrs' to 'First Name' column.\n",
    "Final['First Name'] = Final.apply(lambda x: 'Mr. ' + x['First Name'] if x['Gender'] == 'M' else 'Mrs. ' + x['First Name'], axis=1)\n",
    "\n",
    "# Dropping the 'Gender' column.\n",
    "Final = Final.drop(columns=['Gender'])"
   ]
  },
  {
   "cell_type": "code",
   "execution_count": 20,
   "id": "629d35ce-dfbb-4adb-97ee-d262b716032d",
   "metadata": {},
   "outputs": [
    {
     "name": "stdout",
     "output_type": "stream",
     "text": [
      "      ID     Project       Cost    Status     City  Age  First Name  \\\n",
      "0   A001   Project 1  1002000.0  Finished    Paris   25    Mr. John   \n",
      "1   A001   Project 9  2210312.5   Ongoing    Paris   25    Mr. John   \n",
      "2   A001  Project 11  2000000.0    Failed    Paris   25    Mr. John   \n",
      "3   A002   Project 2  2000000.0   Ongoing   London   27  Mrs. Alice   \n",
      "4   A002   Project 6   680000.0    Failed   London   27  Mrs. Alice   \n",
      "5   A003   Project 3  4500000.0  Finished   Berlin   29     Mr. Tom   \n",
      "6   A003   Project 8   350000.0    Failed   Berlin   29     Mr. Tom   \n",
      "7   A003  Project 10   300000.0  Finished   Berlin   29     Mr. Tom   \n",
      "8   A004   Project 4  5500000.0   Ongoing  Newyork   31   Mrs. Nina   \n",
      "9   A004  Project 12  1000000.0   Ongoing  Newyork   31   Mrs. Nina   \n",
      "10  A004  Project 13  3000000.0  Finished  Newyork   31   Mrs. Nina   \n",
      "11  A005   Project 5  3250500.0  Finished   Madrid   30    Mrs. Amy   \n",
      "12  A005   Project 7   400000.0  Finished   Madrid   30    Mrs. Amy   \n",
      "13  A005  Project 14   200000.0  Finished   Madrid   30    Mrs. Amy   \n",
      "\n",
      "    Last Name  Designation Level     bonus  \n",
      "0       Alter                  2   50100.0  \n",
      "1       Alter                  2       0.0  \n",
      "2       Alter                  1       0.0  \n",
      "3   Luxumberg                  2       0.0  \n",
      "4   Luxumberg                  1       0.0  \n",
      "5   Subestine                  3  225000.0  \n",
      "6   Subestine                  2       0.0  \n",
      "7   Subestine                  3   15000.0  \n",
      "8       Adgra                  2       0.0  \n",
      "9       Adgra                  2       0.0  \n",
      "10      Adgra                  2  150000.0  \n",
      "11      Johny                  3  162525.0  \n",
      "12      Johny                  3   20000.0  \n",
      "13      Johny                  3   10000.0  \n"
     ]
    }
   ],
   "source": [
    "print(Final)"
   ]
  },
  {
   "cell_type": "markdown",
   "id": "44503bea-13f1-4b3f-ae16-5986a146817e",
   "metadata": {},
   "source": [
    "## **Task 8**"
   ]
  },
  {
   "cell_type": "code",
   "execution_count": 21,
   "id": "cbd93267-e95b-400c-ad39-2f0d7d450be2",
   "metadata": {},
   "outputs": [
    {
     "name": "stdout",
     "output_type": "stream",
     "text": [
      "      ID     Project       Cost    Status     City  Age  First Name  \\\n",
      "0   A001   Project 1  1002000.0  Finished    Paris   25    Mr. John   \n",
      "1   A001   Project 9  2210312.5   Ongoing    Paris   25    Mr. John   \n",
      "2   A001  Project 11  2000000.0    Failed    Paris   25    Mr. John   \n",
      "3   A002   Project 2  2000000.0   Ongoing   London   27  Mrs. Alice   \n",
      "4   A002   Project 6   680000.0    Failed   London   27  Mrs. Alice   \n",
      "5   A003   Project 3  4500000.0  Finished   Berlin   29     Mr. Tom   \n",
      "6   A003   Project 8   350000.0    Failed   Berlin   29     Mr. Tom   \n",
      "7   A003  Project 10   300000.0  Finished   Berlin   29     Mr. Tom   \n",
      "8   A004   Project 4  5500000.0   Ongoing  Newyork   31   Mrs. Nina   \n",
      "9   A004  Project 12  1000000.0   Ongoing  Newyork   31   Mrs. Nina   \n",
      "10  A004  Project 13  3000000.0  Finished  Newyork   31   Mrs. Nina   \n",
      "11  A005   Project 5  3250500.0  Finished   Madrid   30    Mrs. Amy   \n",
      "12  A005   Project 7   400000.0  Finished   Madrid   30    Mrs. Amy   \n",
      "13  A005  Project 14   200000.0  Finished   Madrid   30    Mrs. Amy   \n",
      "\n",
      "    Last Name  Designation Level     bonus  \n",
      "0       Alter                  2   50100.0  \n",
      "1       Alter                  2       0.0  \n",
      "2       Alter                  1       0.0  \n",
      "3   Luxumberg                  2       0.0  \n",
      "4   Luxumberg                  1       0.0  \n",
      "5   Subestine                  3  225000.0  \n",
      "6   Subestine                  2       0.0  \n",
      "7   Subestine                  3   15000.0  \n",
      "8       Adgra                  3       0.0  \n",
      "9       Adgra                  3       0.0  \n",
      "10      Adgra                  3  150000.0  \n",
      "11      Johny                  4  162525.0  \n",
      "12      Johny                  4   20000.0  \n",
      "13      Johny                  4   10000.0  \n"
     ]
    }
   ],
   "source": [
    "# Promoting designation level by 1 for the employees whose age is more than 29 years.\n",
    "Final['Designation Level'] = Final.apply(lambda x: x['Designation Level'] + 1 if x['Age'] > 29 else x['Designation Level'], axis = 1)\n",
    "print(Final)"
   ]
  },
  {
   "cell_type": "markdown",
   "id": "4c6fafb3-128a-4742-a556-90feeab65bb7",
   "metadata": {},
   "source": [
    "## **Task 9**"
   ]
  },
  {
   "cell_type": "code",
   "execution_count": 22,
   "id": "b32f78b4-2383-452d-af04-16e6cad2bbdb",
   "metadata": {},
   "outputs": [
    {
     "name": "stdout",
     "output_type": "stream",
     "text": [
      "     ID  First Name  Total cost\n",
      "0  A001    Mr. John   5212312.5\n",
      "1  A002  Mrs. Alice   2680000.0\n",
      "2  A003     Mr. Tom   5150000.0\n",
      "3  A004   Mrs. Nina   9500000.0\n",
      "4  A005    Mrs. Amy   3850500.0\n"
     ]
    }
   ],
   "source": [
    "# Creating a new dataframe and adding 'ID','First Name','Cost' using group by function.\n",
    "TotalProjCost = Final.groupby(['ID', 'First Name'])['Cost'].sum().reset_index()\n",
    "\n",
    "# Renaming 'Cost' column to 'Total cost'.\n",
    "TotalProjCost = TotalProjCost.rename(columns = {'Cost': 'Total cost'})\n",
    "print(TotalProjCost)"
   ]
  },
  {
   "cell_type": "markdown",
   "id": "3bfdfe57-2cdb-4a93-b001-387c500eadd2",
   "metadata": {},
   "source": [
    "## **Task 10**"
   ]
  },
  {
   "cell_type": "code",
   "execution_count": 23,
   "id": "0ee6baa3-33d7-45cb-ac6f-4fb85de24023",
   "metadata": {},
   "outputs": [
    {
     "name": "stdout",
     "output_type": "stream",
     "text": [
      "      ID     Project       Cost    Status     City  Age  First Name  \\\n",
      "3   A002   Project 2  2000000.0   Ongoing   London   27  Mrs. Alice   \n",
      "4   A002   Project 6   680000.0    Failed   London   27  Mrs. Alice   \n",
      "8   A004   Project 4  5500000.0   Ongoing  Newyork   31   Mrs. Nina   \n",
      "9   A004  Project 12  1000000.0   Ongoing  Newyork   31   Mrs. Nina   \n",
      "10  A004  Project 13  3000000.0  Finished  Newyork   31   Mrs. Nina   \n",
      "\n",
      "    Last Name  Designation Level     bonus  \n",
      "3   Luxumberg                  2       0.0  \n",
      "4   Luxumberg                  1       0.0  \n",
      "8       Adgra                  3       0.0  \n",
      "9       Adgra                  3       0.0  \n",
      "10      Adgra                  3  150000.0  \n"
     ]
    }
   ],
   "source": [
    "# Printing all the employee details whose city name contains the letter 'o' in it\n",
    "emp_with_o_in_city = Final[Final['City'].str.contains('o', case = False)]\n",
    "print(emp_with_o_in_city)"
   ]
  },
  {
   "cell_type": "code",
   "execution_count": null,
   "id": "42017acd-7c69-43e6-b88d-ed8963afb66d",
   "metadata": {},
   "outputs": [],
   "source": []
  },
  {
   "cell_type": "code",
   "execution_count": null,
   "id": "b2fa3558-93bb-47d9-8d88-5efd810dcf5e",
   "metadata": {},
   "outputs": [],
   "source": []
  },
  {
   "cell_type": "code",
   "execution_count": null,
   "id": "09a0a022-5ed9-468e-93f8-0eae21f1a26e",
   "metadata": {},
   "outputs": [],
   "source": []
  },
  {
   "cell_type": "code",
   "execution_count": null,
   "id": "a92e48ca-7044-4b31-8aac-1b5ffb2c93bf",
   "metadata": {},
   "outputs": [],
   "source": []
  },
  {
   "cell_type": "code",
   "execution_count": null,
   "id": "ce629b58-54c0-467d-9956-a4886c81b090",
   "metadata": {},
   "outputs": [],
   "source": []
  },
  {
   "cell_type": "code",
   "execution_count": null,
   "id": "ab71d8b8-8cb1-4a9d-83d1-9474de1f633c",
   "metadata": {},
   "outputs": [],
   "source": []
  },
  {
   "cell_type": "code",
   "execution_count": null,
   "id": "92395a71-b639-45f0-9b1a-39fc9d0673e1",
   "metadata": {},
   "outputs": [],
   "source": []
  }
 ],
 "metadata": {
  "kernelspec": {
   "display_name": "Python 3 (ipykernel)",
   "language": "python",
   "name": "python3"
  },
  "language_info": {
   "codemirror_mode": {
    "name": "ipython",
    "version": 3
   },
   "file_extension": ".py",
   "mimetype": "text/x-python",
   "name": "python",
   "nbconvert_exporter": "python",
   "pygments_lexer": "ipython3",
   "version": "3.11.7"
  }
 },
 "nbformat": 4,
 "nbformat_minor": 5
}
